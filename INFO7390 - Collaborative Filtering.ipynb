{
 "cells": [
  {
   "cell_type": "markdown",
   "id": "9862d848",
   "metadata": {},
   "source": [
    "## Import packages"
   ]
  },
  {
   "cell_type": "code",
   "execution_count": 1,
   "id": "c49526a3",
   "metadata": {},
   "outputs": [],
   "source": [
    "import pandas as pd\n",
    "import matplotlib.pyplot as plt\n",
    "import numpy as np\n",
    "from numpy import array\n",
    "import sys\n",
    "import time\n",
    "import random"
   ]
  },
  {
   "cell_type": "markdown",
   "id": "cd1d5cc9",
   "metadata": {},
   "source": [
    "## Loading dataset"
   ]
  },
  {
   "cell_type": "code",
   "execution_count": 2,
   "id": "2267b5d6",
   "metadata": {},
   "outputs": [
    {
     "name": "stderr",
     "output_type": "stream",
     "text": [
      "C:\\Users\\18573\\AppData\\Local\\Temp\\ipykernel_21668\\2000241751.py:2: DtypeWarning: Columns (8,12,13,14,15,16,50,51,52,53,55,56,57,58,59,60,61,62,63,64,65,66,67,68,69,70,71,72,73,74,75,76,77,78,79,80,81,82,83,84,85,93,94,95,96,97,98,99,100,101,102,103,104,105,106,107,108,109,110,111,112,113,114,115,116,117,118,119,120,121,122,123,124,125,126,127,128) have mixed types. Specify dtype option on import or set low_memory=False.\n",
      "  survey = pd.read_csv(\"./dataset/survey_results_public.csv\")\n"
     ]
    }
   ],
   "source": [
    "samples = pd.read_csv(\"./dataset/dice_com-job_us_sample.csv\")\n",
    "survey = pd.read_csv(\"./dataset/survey_results_public.csv\")"
   ]
  },
  {
   "cell_type": "markdown",
   "id": "0098d40f",
   "metadata": {},
   "source": [
    "## Function to Plot Jobs"
   ]
  },
  {
   "cell_type": "code",
   "execution_count": 3,
   "id": "98b8a00c",
   "metadata": {},
   "outputs": [],
   "source": [
    "def plot_jobs(sim,user_id,sim_user_id):\n",
    "    ls = list()\n",
    "    for i in range(0,len(sim)):\n",
    "        ls.append([sim[i][1],sim[i][2]])\n",
    "\n",
    "    plot = pd.DataFrame(data=ls,columns=['X1','X2'])\n",
    "    \n",
    "    # Plotting the scatterplot\n",
    "    fig=plt.figure()\n",
    "    ax=fig.add_axes([0,0,1,1])\n",
    "    scatter = ax.scatter(plot['X1'],plot['X2'],c='r',label='datapoints')\n",
    "    us = 'Select user - '+str(user_id)\n",
    "    rec_us = 'Select user - '+str(sim_user_id)\n",
    "    ax.scatter(sim[user_id][1],sim[user_id][2],c='b',label=us,s=100)\n",
    "    ax.scatter(sim[sim_user_id][1],sim[sim_user_id][2],c='y',label=rec_us,s=100)\n",
    "    ax.set_xlabel('Normalized skills of Users X')\n",
    "    ax.set_ylabel('Normalized skills of Users Y')\n",
    "    ax.legend()\n",
    "    ax.set_title('Similarity Plot')\n",
    "    plt.show()\n",
    "\n",
    "def find_closest_user(sim,input_user):\n",
    "    suser=sim[input_user].index(second_largest_value(sim[input_user]))\n",
    "    return suser\n",
    "\n",
    "def second_largest_value(sim):\n",
    "     \n",
    "    # make empty list\n",
    "    list1 = sim.copy()\n",
    "\n",
    "    # take input number of elements in list\n",
    "    num = int(len(sim))\n",
    "\n",
    "    # print second maximum element using sorted() method\n",
    "    return sorted(list1)[-2]"
   ]
  },
  {
   "cell_type": "markdown",
   "id": "5da1b62b",
   "metadata": {},
   "source": [
    "## Get unique companies"
   ]
  },
  {
   "cell_type": "code",
   "execution_count": 4,
   "id": "bccf06b8",
   "metadata": {},
   "outputs": [],
   "source": [
    "companies = samples['company'].unique()"
   ]
  },
  {
   "cell_type": "markdown",
   "id": "b0216d62",
   "metadata": {},
   "source": [
    "## Assign random companies to each respondent"
   ]
  },
  {
   "cell_type": "code",
   "execution_count": 5,
   "id": "216cc3c4",
   "metadata": {},
   "outputs": [
    {
     "name": "stdout",
     "output_type": "stream",
     "text": [
      "   Respondent                                     company\n",
      "0           1                Technology Consultants, Inc.\n",
      "1           3                                Manpower Inc\n",
      "2           4  American Association of Nurse Anesthetists\n",
      "3           5                            Avery Associates\n",
      "4           7                Sierra Business Solution LLC\n"
     ]
    }
   ],
   "source": [
    "#Assign random companies to each respondent\n",
    "cbf = pd.DataFrame(survey['Respondent'])\n",
    "for i in range(survey.shape[0]):\n",
    "    r=random.randint(1,4291)\n",
    "    cbf.loc[i,\"company\"]=companies[r]\n",
    "print(cbf.head())"
   ]
  },
  {
   "cell_type": "markdown",
   "id": "34f74d7c",
   "metadata": {},
   "source": [
    "## Export to csv"
   ]
  },
  {
   "cell_type": "code",
   "execution_count": 6,
   "id": "ff68932e",
   "metadata": {},
   "outputs": [],
   "source": [
    "cbf.to_csv(\"./dataset/collaborating_data.csv\")"
   ]
  },
  {
   "cell_type": "markdown",
   "id": "4e5cc4e8",
   "metadata": {},
   "source": [
    "## Merge all the dataset"
   ]
  },
  {
   "cell_type": "code",
   "execution_count": 7,
   "id": "a43e652a",
   "metadata": {},
   "outputs": [
    {
     "name": "stderr",
     "output_type": "stream",
     "text": [
      "C:\\Users\\18573\\AppData\\Local\\Temp\\ipykernel_21668\\1307668044.py:9: FutureWarning: Passing 'suffixes' which cause duplicate columns {'Unnamed: 1_x'} in the result is deprecated and will raise a MergeError in a future version.\n",
      "  dfmerge=pd.merge(dfmerge,dfframe,on=\"Respondent\")\n"
     ]
    }
   ],
   "source": [
    "#merge all the dataset having skills from user profile.\n",
    "dflang=pd.read_csv(\"./dataset/LanguageWorkedwith.csv\")\n",
    "dfdata=pd.read_csv(\"./dataset/DatabaseWorkedWith.csv\")\n",
    "dfplat=pd.read_csv(\"./dataset/PlatformWorkedWith.csv\")\n",
    "dfframe=pd.read_csv(\"./dataset/FrameworkWorkedWith.csv\")\n",
    "dfdev=pd.read_csv(\"./dataset/DevType.csv\")\n",
    "dfmerge=pd.merge(dflang,dfdata,on=\"Respondent\")\n",
    "dfmerge=pd.merge(dfmerge,dfplat,on=\"Respondent\")\n",
    "dfmerge=pd.merge(dfmerge,dfframe,on=\"Respondent\")\n",
    "dfmerge=pd.merge(dfmerge,dfdev,on=\"Respondent\")\n",
    "dfmerge.to_csv(\"./dataset/userskills.csv\")"
   ]
  },
  {
   "cell_type": "markdown",
   "id": "afb804d8",
   "metadata": {},
   "source": [
    "## Build dictionary for skills"
   ]
  },
  {
   "cell_type": "code",
   "execution_count": 8,
   "id": "117e2700",
   "metadata": {},
   "outputs": [
    {
     "name": "stderr",
     "output_type": "stream",
     "text": [
      "C:\\Users\\18573\\AppData\\Local\\Temp\\ipykernel_21668\\3581746880.py:12: DeprecationWarning: np.asscalar(a) is deprecated since NumPy v1.16, use a.item() instead\n",
      "  m=(np.asscalar(np.int32(max(dfuser[\"Respondent\"]))))\n",
      "C:\\Users\\18573\\AppData\\Local\\Temp\\ipykernel_21668\\3581746880.py:23: DeprecationWarning: np.asscalar(a) is deprecated since NumPy v1.16, use a.item() instead\n",
      "  s=np.asscalar(np.int32(data.values[0]))\n"
     ]
    }
   ],
   "source": [
    "dfuser=pd.read_csv(\"./dataset/userskills.csv\")\n",
    "\n",
    "#remove duplicate columns during merge\n",
    "dfuser = dfuser.loc[:,~dfuser.columns.duplicated()]\n",
    "dfuser=dfuser.fillna(0)\n",
    "dfuser.shape\n",
    "dfuser.head()\n",
    "\n",
    "#remove rows with less than 5 skills\n",
    "dfuser=dfuser.dropna(thresh=5)\n",
    "dfuser.shape\n",
    "m=(np.asscalar(np.int32(max(dfuser[\"Respondent\"]))))\n",
    "\n",
    "#Build  a dictionary of respondent id's as keys and thier skills as values\n",
    "temp=[0]*m\n",
    "vector=np.array(temp)\n",
    "count=1\n",
    "star=time.time()\n",
    "d=dict()\n",
    "for row in dfuser.iterrows():\n",
    "        index,data=row\n",
    "        l=list()\n",
    "        s=np.asscalar(np.int32(data.values[0]))\n",
    "        d[s]=np.array(list(data.values[1:]))"
   ]
  },
  {
   "cell_type": "markdown",
   "id": "15e10833",
   "metadata": {},
   "source": [
    "## Build the user-user similarity matrix"
   ]
  },
  {
   "cell_type": "code",
   "execution_count": 9,
   "id": "47a5dd07",
   "metadata": {},
   "outputs": [],
   "source": [
    "sim=list()\n",
    "for i in range(5000):\n",
    "        l=list()\n",
    "        l=[0]*5000\n",
    "        sim.append(l)"
   ]
  },
  {
   "cell_type": "code",
   "execution_count": 10,
   "id": "a0162297",
   "metadata": {},
   "outputs": [
    {
     "name": "stdout",
     "output_type": "stream",
     "text": [
      "total time for building similarity matrix \n"
     ]
    }
   ],
   "source": [
    "count1=1\n",
    "count2=1\n",
    "for key, value in d.items():\n",
    "        if(key<5000):\n",
    "            #print(key)\n",
    "            b=(np.linalg.norm(value))\n",
    "            for key2,value2 in d.items():\n",
    "                if(key2<5000):\n",
    "                    #print(key2)\n",
    "                    a=np.dot(d[key],d[key2])\n",
    "                    ans=a/(np.linalg.norm(value2)*b)\n",
    "                    sim[key][key2]=ans\n",
    "                    #count2+=1\n",
    "            #count1+=1\n",
    "e=time.time()\n",
    "print(\"total time for building similarity matrix \")"
   ]
  },
  {
   "cell_type": "markdown",
   "id": "1c2b7b6a",
   "metadata": {},
   "source": [
    "## Plot similarity for selected user"
   ]
  },
  {
   "cell_type": "code",
   "execution_count": 11,
   "id": "d9126dca",
   "metadata": {},
   "outputs": [
    {
     "data": {
      "image/png": "[encoded data removed]",
      "text/plain": [
       "<Figure size 432x288 with 1 Axes>"
      ]
     },
     "metadata": {
      "needs_background": "light"
     },
     "output_type": "display_data"
    }
   ],
   "source": [
    "input_user = 1\n",
    "rec_user = find_closest_user(sim,input_user)\n",
    "plot_jobs(sim,user_id = input_user,sim_user_id = rec_user)"
   ]
  },
  {
   "cell_type": "markdown",
   "id": "a2310720",
   "metadata": {},
   "source": [
    "## Checking with randomized dataset"
   ]
  },
  {
   "cell_type": "code",
   "execution_count": 12,
   "id": "40e5a614",
   "metadata": {},
   "outputs": [
    {
     "name": "stdout",
     "output_type": "stream",
     "text": [
      "Respondent 3 is working in \n",
      "['Manpower Inc']\n",
      "Respondent  7 is working in\n",
      "['Sierra Business Solution LLC']\n"
     ]
    }
   ],
   "source": [
    "#Lets check with the random jobs given to the users .\n",
    "dfjob=pd.read_csv(\"./dataset/collaborating_data.csv\")\n",
    "#Recommend user 3 a job based on another user who has almost the same skill as him.\n",
    "print(\"Respondent 3 is working in \")\n",
    "print(dfjob.loc[dfjob.Respondent==3][\"company\"].values)\n",
    "\n",
    "m1=max(sim[3][:3])\n",
    "m2=max(sim[3][4:])\n",
    "ma=max(m1,m2)\n",
    "suser=sim[3].index(ma)\n",
    "#print(suser) #user 3265 is very similar to user 3 and hence we can recommend user 3265 job to user 3.\n",
    "print(\"Respondent \",suser,\"is working in\")\n",
    "print(dfjob.loc[dfjob.Respondent==suser][\"company\"].values)"
   ]
  },
  {
   "cell_type": "markdown",
   "id": "d9047402",
   "metadata": {},
   "source": [
    "## Plot similarity for selected user"
   ]
  },
  {
   "cell_type": "code",
   "execution_count": 13,
   "id": "bee2ab02",
   "metadata": {
    "scrolled": true
   },
   "outputs": [
    {
     "data": {
      "image/png": "[encoded data removed]",
      "text/plain": [
       "<Figure size 432x288 with 1 Axes>"
      ]
     },
     "metadata": {
      "needs_background": "light"
     },
     "output_type": "display_data"
    }
   ],
   "source": [
    "input_user = 3\n",
    "plot_jobs(sim,input_user,find_closest_user(sim,input_user))"
   ]
  },
  {
   "cell_type": "markdown",
   "id": "2f63c1c1",
   "metadata": {},
   "source": [
    "## For building collaborative filtering"
   ]
  },
  {
   "cell_type": "code",
   "execution_count": 14,
   "id": "fdc4caa7",
   "metadata": {},
   "outputs": [
    {
     "name": "stdout",
     "output_type": "stream",
     "text": [
      "0.3974137306213379\n",
      "Building the similarity matrix....\n",
      "\n"
     ]
    }
   ],
   "source": [
    "dfcont=pd.read_csv(\"./dataset/recommendations.csv\")\n",
    "sim=list()\n",
    "s=time.time()\n",
    "for i in range(2000):\n",
    "        l=list()\n",
    "        l=[0]*2000\n",
    "        sim.append(l)\n",
    "e=time.time()\n",
    "print(e-s)\n",
    "t=time.time()\n",
    "print(\"Building the similarity matrix....\\n\")\n",
    "for key, value in d.items():\n",
    "        if(key<20):\n",
    "            #print(key)\n",
    "            b=(np.linalg.norm(value))\n",
    "            for key2,value2 in d.items():\n",
    "                if(key2<20):\n",
    "                    #print(key2)\n",
    "                    a=np.dot(d[key],d[key2])\n",
    "                    ans=a/(np.linalg.norm(value2)*b)\n",
    "                    sim[key][key2]=ans\n",
    "                    #count2+=1\n",
    "            #count1+=1\n",
    "e=time.time()"
   ]
  },
  {
   "cell_type": "code",
   "execution_count": 15,
   "id": "6e2413ca",
   "metadata": {},
   "outputs": [
    {
     "name": "stdout",
     "output_type": "stream",
     "text": [
      "Respondent 3 was recommended jobs from content based filtering in \n",
      "['ICONMA' 'Cypress Group' 'SolTech, Inc' 'Saicon Consultants Inc.'\n",
      " 'Samsung SDS America Inc' 'Strivector' 'Aria Systems' 'Aria Systems'\n",
      " 'Strivector' 'Universal Software Corporation']\n",
      "Respondent 3 was recommended job titles from content based filtering \n",
      "['Python Developer' 'Full-Stack Python Developer'\n",
      " 'Full Stack Javascript Engineer' 'Full Stack Developer'\n",
      " 'System Administrator' 'System Administrator' 'Application Administrator'\n",
      " 'Application Administrator' 'System Administrator' 'Full Stack Engineer']\n",
      "\n",
      "\n",
      "Respondent  7 was most similiar to respondent 3\n",
      "\n",
      "Based on respondent  7  the jobs recommended to 3 are \n",
      "['Levanture' 'Avesta Computer Services' 'Confidential Company'\n",
      " 'MatchPoint Consulting Group' 'Genesis TechSystems' 'Collabera'\n",
      " 'Cox Communications' 'Celestos, LLC' 'Capgemini' 'iconectiv']\n",
      "The recommended job titles are \n",
      "['NMS Solution Architect' 'Sr. Systems Test Engineer (PERM)'\n",
      " 'Oracle iStore Technical Resource' 'Sr. SQL DBA' 'Health Care ETL Tester'\n",
      " 'ETL Production Support' 'Senior DBA'\n",
      " 'Technology Lead | Telecom | OSS/BSS' 'Oracle PL/SQL' 'Director']\n"
     ]
    }
   ],
   "source": [
    "#Recommend user 3 a job based on another user who has almost the same skill as him.\n",
    "print(\"Respondent 3 was recommended jobs from content based filtering in \")\n",
    "print(dfcont.loc[dfcont.Respondent==3][\"company\"].values)\n",
    "print(\"Respondent 3 was recommended job titles from content based filtering \")\n",
    "print(dfcont.loc[dfcont.Respondent==3][\"jobtitle\"].values)\n",
    "print(\"\\n\")\n",
    "m1=max(sim[3][:3])\n",
    "m2=max(sim[3][4:])\n",
    "ma=max(m1,m2)\n",
    "suser=sim[3].index(ma)\n",
    "print(\"Respondent \",suser,\"was most similiar to respondent 3\\n\")\n",
    "print(\"Based on respondent \",suser,\" the jobs recommended to 3 are \")\n",
    "print(dfcont.loc[dfcont.Respondent==suser][\"company\"].values)\n",
    "print(\"The recommended job titles are \")\n",
    "print(dfcont.loc[dfcont.Respondent==suser][\"jobtitle\"].values)"
   ]
  },
  {
   "cell_type": "markdown",
   "id": "2a4f83af",
   "metadata": {},
   "source": [
    "## Plot similarity for selected user"
   ]
  },
  {
   "cell_type": "code",
   "execution_count": 16,
   "id": "43980780",
   "metadata": {},
   "outputs": [
    {
     "data": {
      "image/png": "[encoded data removed]",
      "text/plain": [
       "<Figure size 432x288 with 1 Axes>"
      ]
     },
     "metadata": {
      "needs_background": "light"
     },
     "output_type": "display_data"
    }
   ],
   "source": [
    "input_user = 3\n",
    "plot_jobs(sim,input_user,find_closest_user(sim,input_user))"
   ]
  }
 ],
 "metadata": {
  "kernelspec": {
   "display_name": "Python 3 (ipykernel)",
   "language": "python",
   "name": "python3"
  },
  "language_info": {
   "codemirror_mode": {
    "name": "ipython",
    "version": 3
   },
   "file_extension": ".py",
   "mimetype": "text/x-python",
   "name": "python",
   "nbconvert_exporter": "python",
   "pygments_lexer": "ipython3",
   "version": "3.9.12"
  }
 },
 "nbformat": 4,
 "nbformat_minor": 5
}
